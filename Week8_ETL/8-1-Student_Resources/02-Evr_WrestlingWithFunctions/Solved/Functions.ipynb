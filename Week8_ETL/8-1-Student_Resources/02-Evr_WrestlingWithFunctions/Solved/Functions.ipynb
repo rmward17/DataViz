{
 "cells": [
  {
   "cell_type": "code",
   "execution_count": 1,
   "id": "ba8a1ef4",
   "metadata": {},
   "outputs": [],
   "source": [
    "import os\n",
    "import csv\n",
    "\n",
    "# Path to collect data from the Resources folder\n",
    "wrestling_csv = os.path.join('..', 'Resources', 'WWE-Data-2016.csv')"
   ]
  },
  {
   "cell_type": "code",
   "execution_count": 2,
   "id": "cfba7c8d",
   "metadata": {},
   "outputs": [],
   "source": [
    "# Define the function and have it accept the 'wrestler_data' as its sole parameter\n",
    "def print_percentages(wrestler_data):\n",
    "    # For readability, it can help to assign your values to variables with descriptive names\n",
    "    name = str(wrestler_data[0])\n",
    "    wins = int(wrestler_data[1])\n",
    "    losses = int(wrestler_data[2])\n",
    "    draws = int(wrestler_data[3])\n",
    "\n",
    "    # Total matches can be found by adding wins, losses, and draws together\n",
    "    total_matches = wins + losses + draws\n",
    "\n",
    "    # Win percent can be found by dividing the the total wins by the total matches and multiplying by 100\n",
    "    win_percent = (wins / total_matches) * 100\n",
    "\n",
    "    # Loss percent can be found by dividing the total losses by the total matches and multiplying by 100\n",
    "    loss_percent = (losses / total_matches) * 100\n",
    "\n",
    "    # Draw percent can be found by dividing the total draws by the total matches and multiplying by 100\n",
    "    draw_percent = (draws / total_matches) * 100\n",
    "\n",
    "    # Print out the wrestler's name and their percentage stats\n",
    "    print(f\"Stats for {name}\")\n",
    "    print(f\"WIN PERCENT: {str(win_percent)}\")\n",
    "    print(f\"LOSS PERCENT: {str(loss_percent)}\")\n",
    "    print(f\"DRAW PERCENT: {str(draw_percent)}\")"
   ]
  },
  {
   "cell_type": "code",
   "execution_count": 3,
   "id": "8957ba92",
   "metadata": {},
   "outputs": [
    {
     "name": "stdout",
     "output_type": "stream",
     "text": [
      "What wrestler do you want to look for? Sami Zayn\n",
      "Stats for Sami Zayn\n",
      "WIN PERCENT: 63.06818181818182\n",
      "LOSS PERCENT: 33.52272727272727\n",
      "DRAW PERCENT: 3.4090909090909087\n"
     ]
    }
   ],
   "source": [
    "# Read in the CSV file\n",
    "with open(wrestling_csv, 'r') as csvfile:\n",
    "\n",
    "    # Split the data on commas\n",
    "    csvreader = csv.reader(csvfile, delimiter=',')\n",
    "\n",
    "    header = next(csvreader)\n",
    "\n",
    "    # Prompt the user for what wrestler they would like to search for\n",
    "    name_to_check = input(\"What wrestler do you want to look for? \")\n",
    "\n",
    "    # Loop through the data\n",
    "    for row in csvreader:\n",
    "\n",
    "        # If the wrestler's name in a row is equal to that which the user input, run the 'print_percentages()' function\n",
    "        if name_to_check == row[0]:\n",
    "            print_percentages(row)"
   ]
  },
  {
   "cell_type": "code",
   "execution_count": null,
   "id": "1499e663",
   "metadata": {},
   "outputs": [],
   "source": []
  }
 ],
 "metadata": {
  "kernelspec": {
   "display_name": "PythonData",
   "language": "python",
   "name": "pythondata"
  },
  "language_info": {
   "codemirror_mode": {
    "name": "ipython",
    "version": 3
   },
   "file_extension": ".py",
   "mimetype": "text/x-python",
   "name": "python",
   "nbconvert_exporter": "python",
   "pygments_lexer": "ipython3",
   "version": "3.7.11"
  }
 },
 "nbformat": 4,
 "nbformat_minor": 5
}
