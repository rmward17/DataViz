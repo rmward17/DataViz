{
 "cells": [
  {
   "cell_type": "code",
   "execution_count": 3,
   "id": "29da5359",
   "metadata": {},
   "outputs": [],
   "source": [
    "import os\n",
    "import csv\n",
    "\n",
    "# Path to collect data from the Resources folder\n",
    "wrestling_csv = os.path.join('..', 'Resources', 'WWE-Data-2016.csv')"
   ]
  },
  {
   "cell_type": "code",
   "execution_count": 6,
   "id": "27db13e6",
   "metadata": {},
   "outputs": [],
   "source": [
    "# Define the function and have it accept the 'wrestlerData' as its sole parameter\n",
    "def print_percentages(wrestlerData):\n",
    "# Find the total number of matches wrestled\n",
    "    total = int(wrestlerData[1]) + int(wrestlerData[2]) + int(wrestlerData[3])\n",
    "# Find the percentage of matches won\n",
    "    wins = int(wrestlerData[1]) / total\n",
    "# Find the percentage of matches lost\n",
    "    losses = int(wrestlerData[2]) / total\n",
    "# Find the percentage of matches drawn\n",
    "    draw = int(wrestlerData[3]) / total\n",
    "# Print out the wrestler's name and their percentage stats\n",
    "    print(f\"Stats for {str(wrestlerData[0])}\")\n",
    "    print(f\"WIN PERCENT: {str(wins)}\")\n",
    "    print(f\"LOSS PERCENT: {str(losses)}\")\n",
    "    print(f\"DRAW PERCENT: {str(draw)}\")"
   ]
  },
  {
   "cell_type": "code",
   "execution_count": 7,
   "id": "6e52c4b1",
   "metadata": {},
   "outputs": [
    {
     "name": "stdout",
     "output_type": "stream",
     "text": [
      "What wrestler do you want to look for? Dean Ambrose\n",
      "Stats for Dean Ambrose\n",
      "WIN PERCENT: 0.6519607843137255\n",
      "LOSS PERCENT: 0.3284313725490196\n",
      "DRAW PERCENT: 0.0196078431372549\n"
     ]
    }
   ],
   "source": [
    "# Read in the CSV file\n",
    "with open(wrestling_csv, 'r') as csvfile:\n",
    "\n",
    "    # Split the data on commas\n",
    "    csvreader = csv.reader(csvfile, delimiter=',')\n",
    "\n",
    "    # Prompt the user for what wrestler they would like to search for\n",
    "    name_to_check = input(\"What wrestler do you want to look for? \")\n",
    "\n",
    "    # Loop through the data\n",
    "    for row in csvreader:\n",
    "\n",
    "        # If the wrestler's name in a row is equal to that which the user input, run the 'print_percentages()' function\n",
    "        if(name_to_check == row[0]):\n",
    "            print_percentages(row)"
   ]
  },
  {
   "cell_type": "code",
   "execution_count": null,
   "id": "409bf17d",
   "metadata": {},
   "outputs": [],
   "source": []
  }
 ],
 "metadata": {
  "kernelspec": {
   "display_name": "PythonData",
   "language": "python",
   "name": "pythondata"
  },
  "language_info": {
   "codemirror_mode": {
    "name": "ipython",
    "version": 3
   },
   "file_extension": ".py",
   "mimetype": "text/x-python",
   "name": "python",
   "nbconvert_exporter": "python",
   "pygments_lexer": "ipython3",
   "version": "3.7.11"
  }
 },
 "nbformat": 4,
 "nbformat_minor": 5
}
