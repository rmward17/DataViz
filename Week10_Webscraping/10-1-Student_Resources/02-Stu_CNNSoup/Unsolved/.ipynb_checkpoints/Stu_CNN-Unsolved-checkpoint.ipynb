{
 "cells": [
  {
   "cell_type": "code",
   "execution_count": 1,
   "metadata": {},
   "outputs": [],
   "source": [
    "# Dependencies\n",
    "import os\n",
    "from bs4 import BeautifulSoup as bs"
   ]
  },
  {
   "cell_type": "code",
   "execution_count": 2,
   "metadata": {},
   "outputs": [],
   "source": [
    "# Read HTML from file\n",
    "filepath = os.path.join(\"..\", \"Resources\", \"template.html\")\n",
    "with open(filepath) as file:\n",
    "    html = file.read()"
   ]
  },
  {
   "cell_type": "code",
   "execution_count": 5,
   "metadata": {},
   "outputs": [],
   "source": [
    "# Create a Beautiful Soup object\n",
    "cnn_soup = bs(html, 'html.parser')"
   ]
  },
  {
   "cell_type": "code",
   "execution_count": 6,
   "metadata": {},
   "outputs": [
    {
     "data": {
      "text/plain": [
       "'Top Ten Stories From 1996'"
      ]
     },
     "execution_count": 6,
     "metadata": {},
     "output_type": "execute_result"
    }
   ],
   "source": [
    "# Extract title text\n",
    "title = cnn_soup.find('title').text\n",
    "title"
   ]
  },
  {
   "cell_type": "code",
   "execution_count": 43,
   "metadata": {},
   "outputs": [
    {
     "data": {
      "text/plain": [
       "[<p><br/>\n",
       " <table border=\"0\" cellpadding=\"0\" cellspacing=\"0\">\n",
       " <tr>\n",
       " <td><img align=\"TOP\" height=\"60\" src=\"logos.gif\" width=\"112\"/></td>\n",
       " <td><img align=\"TOP\" height=\"60\" src=\"banner.gif\" width=\"360\"/></td>\n",
       " </tr>\n",
       " </table>\n",
       " </p>,\n",
       " <p align=\"RIGHT\"><b><tt>What were the biggest stories of the year?</tt></b><br/>\n",
       " <br/>\n",
       " <font size=\"2\">It's a question journalists like to ask themselves at the end of every\n",
       "             year. Now you can join in the process. Here are our selections for the top ten news\n",
       "             stories of 1996.<br/>\n",
       " <br/>\n",
       "             Disagree with our choices? Then tell us what stories you think were most compelling\n",
       "             in the poll below.</font>\n",
       " </p>,\n",
       " <p align=\"CENTER\"><img align=\"MIDDLE\" height=\"24\" src=\"generic/topten.gif\" vspace=\"5\" width=\"263\"/>\n",
       " </p>,\n",
       " <p><b><tt>What makes a </tt></b><font size=\"5\"><tt><b>big</b></tt></font><tt><b>\n",
       "             story </b></tt><font size=\"5\"><tt><b>BIG?</b></tt></font>\n",
       " <blockquote>\n",
       " <p>It depends on your criteria, of course, and your perspective. That's why we offered\n",
       "             a poll to find out what you think.</p>\n",
       " <p>For our list, we polled producers throughout the CNN/Pathfinder family of networks\n",
       "             and publications, and weighed such criteria as a story's long-term implications,\n",
       "             geopolitical significance, user interest, amount of coverage, and old-fashioned newsworthiness.\n",
       "             All these things help make a \"big\" story big.</p>\n",
       " <p>By no means do we think our lists are the final word. Even our polls among CNN\n",
       "             producers turned up a wide variety of responses. The process is meant to encourage\n",
       "             you to reconsider the stories that dominated the media during the past year and determine\n",
       "             for yourself which were mere sensations and which were truly significant.\n",
       "             </p></blockquote>\n",
       " </p>,\n",
       " <p>It depends on your criteria, of course, and your perspective. That's why we offered\n",
       "             a poll to find out what you think.</p>,\n",
       " <p>For our list, we polled producers throughout the CNN/Pathfinder family of networks\n",
       "             and publications, and weighed such criteria as a story's long-term implications,\n",
       "             geopolitical significance, user interest, amount of coverage, and old-fashioned newsworthiness.\n",
       "             All these things help make a \"big\" story big.</p>,\n",
       " <p>By no means do we think our lists are the final word. Even our polls among CNN\n",
       "             producers turned up a wide variety of responses. The process is meant to encourage\n",
       "             you to reconsider the stories that dominated the media during the past year and determine\n",
       "             for yourself which were mere sensations and which were truly significant.\n",
       "             </p>,\n",
       " <p>© 1996 Cable News Network, Inc.<br/>\n",
       " All Rights Reserved.</p>]"
      ]
     },
     "execution_count": 43,
     "metadata": {},
     "output_type": "execute_result"
    }
   ],
   "source": [
    "pragraphs = cnn_soup.find_all('p')\n",
    "pragraphs"
   ]
  },
  {
   "cell_type": "code",
   "execution_count": 45,
   "metadata": {},
   "outputs": [
    {
     "name": "stdout",
     "output_type": "stream",
     "text": [
      "\n",
      "\n",
      "\n",
      "\n",
      "\n",
      "\n",
      "\n",
      "\n",
      "What were the biggest stories of the year?\n",
      "\n",
      "It's a question journalists like to ask themselves at the end of every\n",
      "            year. Now you can join in the process. Here are our selections for the top ten news\n",
      "            stories of 1996.\n",
      "\n",
      "            Disagree with our choices? Then tell us what stories you think were most compelling\n",
      "            in the poll below.\n",
      "\n",
      "\n",
      "\n",
      "What makes a big\n",
      "            story BIG?\n",
      "\n",
      "It depends on your criteria, of course, and your perspective. That's why we offered\n",
      "            a poll to find out what you think.\n",
      "For our list, we polled producers throughout the CNN/Pathfinder family of networks\n",
      "            and publications, and weighed such criteria as a story's long-term implications,\n",
      "            geopolitical significance, user interest, amount of coverage, and old-fashioned newsworthiness.\n",
      "            All these things help make a \"big\" story big.\n",
      "By no means do we think our lists are the final word. Even our polls among CNN\n",
      "            producers turned up a wide variety of responses. The process is meant to encourage\n",
      "            you to reconsider the stories that dominated the media during the past year and determine\n",
      "            for yourself which were mere sensations and which were truly significant.\n",
      "            \n",
      "\n",
      "It depends on your criteria, of course, and your perspective. That's why we offered\n",
      "            a poll to find out what you think.\n",
      "For our list, we polled producers throughout the CNN/Pathfinder family of networks\n",
      "            and publications, and weighed such criteria as a story's long-term implications,\n",
      "            geopolitical significance, user interest, amount of coverage, and old-fashioned newsworthiness.\n",
      "            All these things help make a \"big\" story big.\n",
      "By no means do we think our lists are the final word. Even our polls among CNN\n",
      "            producers turned up a wide variety of responses. The process is meant to encourage\n",
      "            you to reconsider the stories that dominated the media during the past year and determine\n",
      "            for yourself which were mere sensations and which were truly significant.\n",
      "            \n",
      "© 1996 Cable News Network, Inc.\n",
      "All Rights Reserved.\n"
     ]
    }
   ],
   "source": [
    "# Print all paragraph texts\n",
    "for data in paragraphs:\n",
    "    print(data.text)"
   ]
  },
  {
   "cell_type": "code",
   "execution_count": 30,
   "metadata": {},
   "outputs": [
    {
     "data": {
      "text/plain": [
       "[<a href=\"topten/israel/israel.index.html\" target=\"_top\"><img align=\"MIDDLE\" border=\"0\" height=\"17\" src=\"generic/1.gif\" width=\"17\"/></a>,\n",
       " <a href=\"topten/israel/israel.index.html\" target=\"_top\"><b>Israel</b> elects <b>Netanyahu</b></a>,\n",
       " <a href=\"topten/twa/twa.index.html\" target=\"_top\"><img align=\"MIDDLE\" border=\"0\" height=\"17\" src=\"generic/2.gif\" width=\"17\"/></a>,\n",
       " <a href=\"topten/twa/twa.index.html\" target=\"_top\">Crash of TWA Flight 800</a>,\n",
       " <a href=\"topten/yeltsin/yeltsin.index.html\" target=\"_top\"><img align=\"MIDDLE\" border=\"0\" height=\"17\" src=\"generic/3.gif\" width=\"17\"/></a>,\n",
       " <a href=\"topten/yeltsin/yeltsin.index.html\" target=\"_top\"><b>Russia</b> elects <b>Yeltsin</b></a>,\n",
       " <a href=\"topten/clinton/clinton.index.html\" target=\"_top\"><img align=\"MIDDLE\" border=\"0\" height=\"17\" src=\"generic/4.gif\" width=\"17\"/></a>,\n",
       " <a href=\"topten/clinton/clinton.index.html\" target=\"_top\"><b>U.S</b>. elects <b>Clinton</b></a>,\n",
       " <a href=\"topten/hutu/hutu.index.html\" target=\"_top\"><img align=\"MIDDLE\" border=\"0\" height=\"17\" src=\"generic/5.gif\" width=\"17\"/></a>,\n",
       " <a href=\"topten/hutu/hutu.index.html\" target=\"_top\"><b>Hutu-Tutsi</b> conflict in central Africa</a>,\n",
       " <a href=\"topten/bosnia/bosnia.index.html\" target=\"_top\"><img align=\"MIDDLE\" border=\"0\" height=\"17\" src=\"generic/6.gif\" width=\"17\"/></a>,\n",
       " <a href=\"topten/bosnia/bosnia.index.html\" target=\"_top\">Peace, elections in <b>Bosnia</b></a>,\n",
       " <a href=\"topten/saudi/saudi.index.html\" target=\"_top\"><img align=\"MIDDLE\" border=\"0\" height=\"17\" src=\"generic/7.gif\" width=\"17\"/></a>,\n",
       " <a href=\"topten/saudi/saudi.index.html\" target=\"_top\"><b>U.S</b>. base bombed in <b>Saudi Arabia</b></a>,\n",
       " <a href=\"topten/olympics/olympics.index.html\" target=\"_top\"><img align=\"MIDDLE\" border=\"0\" height=\"17\" src=\"generic/8.gif\" width=\"17\"/></a>,\n",
       " <a href=\"topten/olympics/olympics.index.html\" target=\"_top\">Centennial <b>Olympic</b> Games</a>,\n",
       " <a href=\"topten/aids/aids.index.html\" target=\"_top\"><img align=\"MIDDLE\" border=\"0\" height=\"17\" src=\"generic/9.gif\" width=\"17\"/></a>,\n",
       " <a href=\"topten/aids/aids.index.html\" target=\"_top\">Advances against <b>AIDS</b></a>,\n",
       " <a href=\"topten/unabomb/unabomb.index.html\" target=\"_top\"><img align=\"MIDDLE\" border=\"0\" height=\"17\" src=\"generic/10.gif\" width=\"17\"/></a>,\n",
       " <a href=\"topten/unabomb/unabomb.index.html\" target=\"_top\"><b>Unabomb</b> suspect <b>Ted Kaczynski</b> arrested</a>,\n",
       " <a href=\"topten/poll.html\" target=\"_top\"><img align=\"MIDDLE\" border=\"0\" height=\"60\" src=\"poll.gif\" width=\"120\"/></a>,\n",
       " <a href=\"http://www-cgi.cnn.com/cgi-bin/quiz/yir_main/go.pl/main\" target=\"_top\"><img align=\"MIDDLE\" border=\"0\" height=\"60\" src=\"quiz.gif\" width=\"120\"/></a>,\n",
       " <a href=\"http://www-cgi.cnn.com/cgi-bin/poll/heavypoll.pl?slug=9612%2Fyir_top_10\" target=\"_top\">The top 10 stories according to our users</a>,\n",
       " <a href=\"http://pathfinder.com/time/bestof1996/index.html\" target=\"_top\">\n",
       "     T I M E: The Best of 1996</a>,\n",
       " <a href=\"http://pathfinder.com/@@qsdFOQcA62PJWEWu/time/moy/index.html\" target=\"_top\">\n",
       "     T I M E: Man of the Year</a>,\n",
       " <a href=\"http://pathfinder.com/time/1996/\" target=\"_top\">\n",
       " <img align=\"MIDDLE\" border=\"0\" height=\"50\" src=\"time.gif\" width=\"540\"/></a>,\n",
       " <a href=\"generic/credits.index.html\" target=\"_top\"><tt><b>C R E D I T S</b></tt></a>,\n",
       " <a href=\"http://cnn.com/interactive_legal.html\" target=\"_top\">Terms</a>]"
      ]
     },
     "execution_count": 30,
     "metadata": {},
     "output_type": "execute_result"
    }
   ],
   "source": [
    "# Print all ten headlines\n",
    "headlines = cnn_soup.find_all(target='_top')\n",
    "headlines"
   ]
  },
  {
   "cell_type": "code",
   "execution_count": 33,
   "metadata": {},
   "outputs": [
    {
     "data": {
      "text/plain": [
       "<a href=\"topten/twa/twa.index.html\" target=\"_top\"><img align=\"MIDDLE\" border=\"0\" height=\"17\" src=\"generic/2.gif\" width=\"17\"/></a>"
      ]
     },
     "execution_count": 33,
     "metadata": {},
     "output_type": "execute_result"
    }
   ],
   "source": [
    "headlines[2]"
   ]
  },
  {
   "cell_type": "code",
   "execution_count": 39,
   "metadata": {},
   "outputs": [],
   "source": [
    "# Print only the headlines\n",
    "top_ten = []\n",
    "for x in range(1,21,2):\n",
    "    line = headlines[x].get_text()\n",
    "    top_ten.append(line)"
   ]
  },
  {
   "cell_type": "code",
   "execution_count": 40,
   "metadata": {},
   "outputs": [
    {
     "data": {
      "text/plain": [
       "['Israel elects Netanyahu',\n",
       " 'Crash of TWA Flight 800',\n",
       " 'Russia elects Yeltsin',\n",
       " 'U.S. elects Clinton',\n",
       " 'Hutu-Tutsi conflict in central Africa',\n",
       " 'Peace, elections in Bosnia',\n",
       " 'U.S. base bombed in Saudi Arabia',\n",
       " 'Centennial Olympic Games',\n",
       " 'Advances against AIDS',\n",
       " 'Unabomb suspect Ted Kaczynski arrested']"
      ]
     },
     "execution_count": 40,
     "metadata": {},
     "output_type": "execute_result"
    }
   ],
   "source": [
    "top_ten"
   ]
  },
  {
   "cell_type": "code",
   "execution_count": null,
   "metadata": {},
   "outputs": [],
   "source": []
  }
 ],
 "metadata": {
  "kernelspec": {
   "display_name": "Python 3 (ipykernel)",
   "language": "python",
   "name": "python3"
  },
  "language_info": {
   "codemirror_mode": {
    "name": "ipython",
    "version": 3
   },
   "file_extension": ".py",
   "mimetype": "text/x-python",
   "name": "python",
   "nbconvert_exporter": "python",
   "pygments_lexer": "ipython3",
   "version": "3.7.11"
  },
  "varInspector": {
   "cols": {
    "lenName": 16,
    "lenType": 16,
    "lenVar": 40
   },
   "kernels_config": {
    "python": {
     "delete_cmd_postfix": "",
     "delete_cmd_prefix": "del ",
     "library": "var_list.py",
     "varRefreshCmd": "print(var_dic_list())"
    },
    "r": {
     "delete_cmd_postfix": ") ",
     "delete_cmd_prefix": "rm(",
     "library": "var_list.r",
     "varRefreshCmd": "cat(var_dic_list()) "
    }
   },
   "types_to_exclude": [
    "module",
    "function",
    "builtin_function_or_method",
    "instance",
    "_Feature"
   ],
   "window_display": false
  }
 },
 "nbformat": 4,
 "nbformat_minor": 2
}
