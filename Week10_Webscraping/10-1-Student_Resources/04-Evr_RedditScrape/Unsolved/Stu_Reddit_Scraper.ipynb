{
 "cells": [
  {
   "cell_type": "code",
   "execution_count": 1,
   "metadata": {},
   "outputs": [],
   "source": [
    "# Dependencies\n",
    "from bs4 import BeautifulSoup\n",
    "import requests\n",
    "import os"
   ]
  },
  {
   "cell_type": "code",
   "execution_count": 2,
   "metadata": {},
   "outputs": [],
   "source": [
    "filepath = os.path.join(\"Programmer-Humor.html\")\n",
    "with open(filepath, encoding='utf-8') as file:\n",
    "    html = file.read()"
   ]
  },
  {
   "cell_type": "code",
   "execution_count": 3,
   "metadata": {},
   "outputs": [],
   "source": [
    "# Create BeautifulSoup object; parse with 'html.parser'\n",
    "soup = BeautifulSoup(html, 'html.parser')"
   ]
  },
  {
   "cell_type": "code",
   "execution_count": 6,
   "metadata": {},
   "outputs": [
    {
     "data": {
      "text/plain": [
       "<div class=\"top-matter\"><p class=\"title\"><a class=\"title may-blank\" data-event-action=\"title\" data-href-url=\"/r/ProgrammerHumor/comments/6y2b47/meta_clarification_on_rules/\" data-inbound-url=\"/r/ProgrammerHumor/comments/6y2b47/meta_clarification_on_rules/?utm_content=title&amp;utm_medium=hot&amp;utm_source=reddit&amp;utm_name=ProgrammerHumor\" href=\"https://www.reddit.com/r/ProgrammerHumor/comments/6y2b47/meta_clarification_on_rules/\" rel=\"\" tabindex=\"1\">[Meta] Clarification on rules</a> <span class=\"domain\">(<a href=\"https://www.reddit.com/r/ProgrammerHumor/\">self.ProgrammerHumor</a>)</span></p><div class=\"expando-button collapsed hide-when-pinned selftext\"></div><p class=\"tagline\">submitted <time class=\"\" datetime=\"2017-09-04T18:50:45+00:00\" title=\"Mon Sep 4 18:50:45 2017 UTC\">4 months ago</time> by <a class=\"author moderator may-blank id-t2_10xbsx\" href=\"https://www.reddit.com/user/munirc\">munirc</a><span class=\"flair flair-ult\" title=\"Ultraviolent security clearance\">Ultraviolent security clearance</span><span class=\"userattrs\">[<a class=\"moderator\" href=\"https://www.reddit.com/r/ProgrammerHumor/about/moderators\" title=\"moderator of r/ProgrammerHumor, speaking officially\">M</a>]</span> - <span class=\"stickied-tagline\" title=\"selected by this subreddit's moderators\">announcement</span></p><ul class=\"flat-list buttons pocket-inserted\"><li class=\"first\"><a class=\"bylink comments may-blank\" data-event-action=\"comments\" data-href-url=\"/r/ProgrammerHumor/comments/6y2b47/meta_clarification_on_rules/\" data-inbound-url=\"/r/ProgrammerHumor/comments/6y2b47/meta_clarification_on_rules/?utm_content=comments&amp;utm_medium=hot&amp;utm_source=reddit&amp;utm_name=ProgrammerHumor\" href=\"https://www.reddit.com/r/ProgrammerHumor/comments/6y2b47/meta_clarification_on_rules/\" rel=\"nofollow\">79 comments</a></li><li class=\"share\"><a class=\"post-sharing-button\" href=\"javascript: void 0;\">share</a></li><li class=\"link-save-button save-button login-required\"><a href=\"https://www.reddit.com/r/ProgrammerHumor/#\">save</a></li><li><form action=\"https://www.reddit.com/post/hide\" class=\"state-button hide-button\" method=\"post\"><input name=\"executed\" type=\"hidden\" value=\"hidden\"/><span><a class=\"\" data-event-action=\"hide\" href=\"javascript:void(0)\" onclick=\"change_state(this, 'hide', hide_thing);\">hide</a></span></form></li><li class=\"report-button login-required\"><a class=\"reportbtn access-required\" data-event-action=\"report\" href=\"javascript:void(0)\">report</a></li><li><a class=\"pocket-reddit-button\" href=\"https://www.reddit.com/r/ProgrammerHumor/#\">pocket</a></li></ul><div class=\"reportform report-t3_6y2b47\"></div></div>"
      ]
     },
     "execution_count": 6,
     "metadata": {},
     "output_type": "execute_result"
    }
   ],
   "source": [
    "# Examine the results and look for a div withe the class 'top-matter'\n",
    "results = soup.find_all('div', class_='top-matter')\n",
    "results[1]"
   ]
  },
  {
   "cell_type": "code",
   "execution_count": null,
   "metadata": {},
   "outputs": [],
   "source": []
  },
  {
   "cell_type": "code",
   "execution_count": 7,
   "metadata": {},
   "outputs": [
    {
     "name": "stdout",
     "output_type": "stream",
     "text": [
      "'NoneType' object has no attribute 'text'\n",
      "\n",
      "-----------------\n",
      "\n",
      "[Meta] Clarification on rules\n",
      "Comments: 79\n",
      "https://www.reddit.com/r/ProgrammerHumor/comments/6y2b47/meta_clarification_on_rules/\n",
      "\n",
      "-----------------\n",
      "\n",
      "Doing conditionals\n",
      "Comments: 258\n",
      "https://www.reddit.com/r/ProgrammerHumor/comments/7pw5qk/doing_conditionals/\n",
      "\n",
      "-----------------\n",
      "\n",
      "Perfect date\n",
      "Comments: 58\n",
      "https://www.reddit.com/r/ProgrammerHumor/comments/7pyyl2/perfect_date/\n",
      "\n",
      "-----------------\n",
      "\n",
      "The truth about java.\n",
      "Comments: 61\n",
      "https://www.reddit.com/r/ProgrammerHumor/comments/7pxod4/the_truth_about_java/\n",
      "\n",
      "-----------------\n",
      "\n",
      "It all makes sense now.\n",
      "Comments: 341\n",
      "https://www.reddit.com/r/ProgrammerHumor/comments/7pp66f/it_all_makes_sense_now/\n",
      "\n",
      "-----------------\n",
      "\n",
      "This is where US's bandwidth going.\n",
      "Comments: 20\n",
      "https://www.reddit.com/r/ProgrammerHumor/comments/7pv1ta/this_is_where_uss_bandwidth_going/\n"
     ]
    }
   ],
   "source": [
    "# Loop through returned results\n",
    "for result in results:\n",
    "    \n",
    "    # Retrieve the thread title\n",
    "    title = result.find('p', class_='title')\n",
    "    \n",
    "    \n",
    "    # Access the thread's text content\n",
    "    title_text = title.a.text\n",
    "#     print(title_text)\n",
    "\n",
    "    try:\n",
    "        # Access the thread with CSS selectors\n",
    "        thread = result.find('li', class_='first')    \n",
    "\n",
    "        # The number of comments made in the thread\n",
    "        comments = thread.text.lstrip()\n",
    "\n",
    "        # Parse string, e.g. '47 comments' for possible numeric manipulation\n",
    "        comments_num = int(comments.split()[0])\n",
    "\n",
    "        # Access the href attribute with bracket notation\n",
    "        link = thread.a['href']\n",
    "\n",
    "        # Run if the thread has 20 or more comments\n",
    "        if (comments_num >=20 ):\n",
    "            print('\\n-----------------\\n')\n",
    "            print(title_text)\n",
    "            print('Comments:', comments_num)\n",
    "            print(link)\n",
    "    except AttributeError as e:\n",
    "        print(e)"
   ]
  },
  {
   "cell_type": "code",
   "execution_count": null,
   "metadata": {},
   "outputs": [],
   "source": []
  }
 ],
 "metadata": {
  "kernelspec": {
   "display_name": "Python 3 (ipykernel)",
   "language": "python",
   "name": "python3"
  },
  "language_info": {
   "codemirror_mode": {
    "name": "ipython",
    "version": 3
   },
   "file_extension": ".py",
   "mimetype": "text/x-python",
   "name": "python",
   "nbconvert_exporter": "python",
   "pygments_lexer": "ipython3",
   "version": "3.7.11"
  },
  "varInspector": {
   "cols": {
    "lenName": 16,
    "lenType": 16,
    "lenVar": 40
   },
   "kernels_config": {
    "python": {
     "delete_cmd_postfix": "",
     "delete_cmd_prefix": "del ",
     "library": "var_list.py",
     "varRefreshCmd": "print(var_dic_list())"
    },
    "r": {
     "delete_cmd_postfix": ") ",
     "delete_cmd_prefix": "rm(",
     "library": "var_list.r",
     "varRefreshCmd": "cat(var_dic_list()) "
    }
   },
   "types_to_exclude": [
    "module",
    "function",
    "builtin_function_or_method",
    "instance",
    "_Feature"
   ],
   "window_display": false
  }
 },
 "nbformat": 4,
 "nbformat_minor": 2
}
